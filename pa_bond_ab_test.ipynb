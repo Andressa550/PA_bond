{
 "cells": [
  {
   "cell_type": "markdown",
   "id": "b8f706e5",
   "metadata": {
    "heading_collapsed": true
   },
   "source": [
    "# A/B Testing - PA Bond"
   ]
  },
  {
   "cell_type": "markdown",
   "id": "edb8454c",
   "metadata": {
    "heading_collapsed": true,
    "hidden": true
   },
   "source": [
    "## 0.1 Imports"
   ]
  },
  {
   "cell_type": "code",
   "execution_count": 135,
   "id": "32098656",
   "metadata": {
    "ExecuteTime": {
     "end_time": "2022-07-30T18:23:22.874363Z",
     "start_time": "2022-07-30T18:23:22.865341Z"
    },
    "hidden": true
   },
   "outputs": [],
   "source": [
    "import pandas as pd\n",
    "import math\n",
    "from statsmodels.stats import api as sms\n",
    "import numpy as np\n",
    "import seaborn as sns\n",
    "from scipy.stats import ttest_1samp, shapiro, ttest_ind, mannwhitneyu, f_oneway, chi2_contingency\n",
    "from statsmodels.stats.multicomp import pairwise_tukeyhsd\n",
    "import pingouin as pg\n",
    "from matplotlib import pyplot as plt\n",
    "from scipy import stats\n"
   ]
  },
  {
   "cell_type": "markdown",
   "id": "974646f2",
   "metadata": {
    "heading_collapsed": true
   },
   "source": [
    "# 1.0 Load data"
   ]
  },
  {
   "cell_type": "code",
   "execution_count": 5,
   "id": "402a94a1",
   "metadata": {
    "ExecuteTime": {
     "end_time": "2022-07-30T14:55:23.285724Z",
     "start_time": "2022-07-30T14:55:23.229986Z"
    },
    "hidden": true
   },
   "outputs": [],
   "source": [
    "df_raw = pd.read_csv('../PA_bond/ab_testing.csv')"
   ]
  },
  {
   "cell_type": "code",
   "execution_count": 6,
   "id": "3ae08a5b",
   "metadata": {
    "ExecuteTime": {
     "end_time": "2022-07-30T14:55:34.392351Z",
     "start_time": "2022-07-30T14:55:34.369625Z"
    },
    "hidden": true
   },
   "outputs": [
    {
     "data": {
      "text/html": [
       "<div>\n",
       "<style scoped>\n",
       "    .dataframe tbody tr th:only-of-type {\n",
       "        vertical-align: middle;\n",
       "    }\n",
       "\n",
       "    .dataframe tbody tr th {\n",
       "        vertical-align: top;\n",
       "    }\n",
       "\n",
       "    .dataframe thead th {\n",
       "        text-align: right;\n",
       "    }\n",
       "</style>\n",
       "<table border=\"1\" class=\"dataframe\">\n",
       "  <thead>\n",
       "    <tr style=\"text-align: right;\">\n",
       "      <th></th>\n",
       "      <th>uid</th>\n",
       "      <th>country</th>\n",
       "      <th>gender</th>\n",
       "      <th>spent</th>\n",
       "      <th>purchases</th>\n",
       "      <th>date</th>\n",
       "      <th>group</th>\n",
       "      <th>device</th>\n",
       "    </tr>\n",
       "  </thead>\n",
       "  <tbody>\n",
       "    <tr>\n",
       "      <th>0</th>\n",
       "      <td>11115722</td>\n",
       "      <td>MEX</td>\n",
       "      <td>F</td>\n",
       "      <td>1595</td>\n",
       "      <td>5</td>\n",
       "      <td>2016-03-08</td>\n",
       "      <td>GRP B</td>\n",
       "      <td>I</td>\n",
       "    </tr>\n",
       "    <tr>\n",
       "      <th>1</th>\n",
       "      <td>11122053</td>\n",
       "      <td>USA</td>\n",
       "      <td>M</td>\n",
       "      <td>498</td>\n",
       "      <td>2</td>\n",
       "      <td>2017-07-14</td>\n",
       "      <td>GRP B</td>\n",
       "      <td>I</td>\n",
       "    </tr>\n",
       "    <tr>\n",
       "      <th>2</th>\n",
       "      <td>11128688</td>\n",
       "      <td>USA</td>\n",
       "      <td>F</td>\n",
       "      <td>2394</td>\n",
       "      <td>6</td>\n",
       "      <td>2017-09-17</td>\n",
       "      <td>GRP A</td>\n",
       "      <td>I</td>\n",
       "    </tr>\n",
       "    <tr>\n",
       "      <th>3</th>\n",
       "      <td>11130578</td>\n",
       "      <td>USA</td>\n",
       "      <td>F</td>\n",
       "      <td>1197</td>\n",
       "      <td>3</td>\n",
       "      <td>2017-11-30</td>\n",
       "      <td>GRP A</td>\n",
       "      <td>I</td>\n",
       "    </tr>\n",
       "    <tr>\n",
       "      <th>4</th>\n",
       "      <td>11130759</td>\n",
       "      <td>ESP</td>\n",
       "      <td>M</td>\n",
       "      <td>1297</td>\n",
       "      <td>3</td>\n",
       "      <td>2018-01-10</td>\n",
       "      <td>GRP B</td>\n",
       "      <td>A</td>\n",
       "    </tr>\n",
       "  </tbody>\n",
       "</table>\n",
       "</div>"
      ],
      "text/plain": [
       "        uid country gender  spent  purchases        date  group device\n",
       "0  11115722     MEX      F   1595          5  2016-03-08  GRP B      I\n",
       "1  11122053     USA      M    498          2  2017-07-14  GRP B      I\n",
       "2  11128688     USA      F   2394          6  2017-09-17  GRP A      I\n",
       "3  11130578     USA      F   1197          3  2017-11-30  GRP A      I\n",
       "4  11130759     ESP      M   1297          3  2018-01-10  GRP B      A"
      ]
     },
     "execution_count": 6,
     "metadata": {},
     "output_type": "execute_result"
    }
   ],
   "source": [
    "df_raw.head()"
   ]
  },
  {
   "cell_type": "markdown",
   "id": "ec37698c",
   "metadata": {
    "ExecuteTime": {
     "end_time": "2022-07-30T14:56:30.455535Z",
     "start_time": "2022-07-30T14:56:30.446690Z"
    },
    "heading_collapsed": true
   },
   "source": [
    "# 2.0 Design de Experimentos"
   ]
  },
  {
   "cell_type": "code",
   "execution_count": null,
   "id": "b99d9258",
   "metadata": {
    "hidden": true
   },
   "outputs": [],
   "source": [
    "#Objetivo: Definir se o preenchimento automativo da pagina checkout é melhor do que o prenchimento manual.\n",
    "#Métrica: GMV(Gross Margin Reneveu) médio\n",
    "\n",
    "\n",
    "#A = Preenchimento automático\n",
    "#B = Preenhimento manual\n",
    "\n",
    "#I = Compra feita através do site\n",
    "#A= Compra feita através do App\n",
    "\n",
    "#Metricas com uma dispersão naturalmente menor\n",
    "#Conversão - (0 - 1)\n",
    "#Compras - (0 - Unidades)\n",
    "#GMV - (0 - R$: 30.000)"
   ]
  },
  {
   "cell_type": "markdown",
   "id": "9ccc53e6",
   "metadata": {
    "ExecuteTime": {
     "end_time": "2022-07-30T14:56:47.463453Z",
     "start_time": "2022-07-30T14:56:47.455665Z"
    },
    "hidden": true
   },
   "source": [
    "## 2.1 Formulação da Hipóteses"
   ]
  },
  {
   "cell_type": "code",
   "execution_count": 27,
   "id": "0e39b736",
   "metadata": {
    "ExecuteTime": {
     "end_time": "2022-07-30T16:30:51.667411Z",
     "start_time": "2022-07-30T16:30:51.664347Z"
    },
    "hidden": true
   },
   "outputs": [],
   "source": [
    "#H0: avg GMV A = avg GMV B\n",
    "#H1: avg GMV A <> avg GMV B"
   ]
  },
  {
   "cell_type": "markdown",
   "id": "fd31df8a",
   "metadata": {
    "hidden": true
   },
   "source": [
    "## 2.2 Denifir o tamanho da amostra"
   ]
  },
  {
   "cell_type": "code",
   "execution_count": 118,
   "id": "32231533",
   "metadata": {
    "ExecuteTime": {
     "end_time": "2022-07-30T18:13:02.637629Z",
     "start_time": "2022-07-30T18:13:02.615000Z"
    },
    "hidden": true
   },
   "outputs": [
    {
     "name": "stdout",
     "output_type": "stream",
     "text": [
      "3395\n"
     ]
    }
   ],
   "source": [
    "\n",
    "#init_metric = metric atual (media do GMV, media Sales)\n",
    "#end_metric = metric lift (5% sobre a metrica atual )\n",
    "#pg.compute_effsize(x,y, eftype='cohen')\n",
    "\n",
    "# tamanho do efeito\n",
    "\n",
    "init_metric = 1902.86\n",
    "end_metric = init_metric * (1 + 0.05)\n",
    "std_metric = 1398.89\n",
    "\n",
    "effect_size = (end_metric - init_metric)/std_metric\n",
    "\n",
    "\n",
    "sample_size = sms.tt_ind_solve_power(\n",
    "    effect_size=effect_size,\n",
    "    alpha=0.05,\n",
    "    power=0.80\n",
    ")\n",
    "\n",
    "sample_size = np.ceil(sample_size).astype(int)\n",
    "print(sample_size)"
   ]
  },
  {
   "cell_type": "markdown",
   "id": "42e85f9e",
   "metadata": {
    "heading_collapsed": true
   },
   "source": [
    "# 3.0 Analises descritivas dos dados"
   ]
  },
  {
   "cell_type": "code",
   "execution_count": 104,
   "id": "80d58af0",
   "metadata": {
    "ExecuteTime": {
     "end_time": "2022-07-30T18:09:11.075989Z",
     "start_time": "2022-07-30T18:09:11.070865Z"
    },
    "hidden": true
   },
   "outputs": [
    {
     "name": "stdout",
     "output_type": "stream",
     "text": [
      "Number of rows: 45883\n",
      "Number of cols: 8\n"
     ]
    }
   ],
   "source": [
    "print('Number of rows: {}'.format(df_raw.shape[0]))\n",
    "print('Number of cols: {}'.format(df_raw.shape[1]))"
   ]
  },
  {
   "cell_type": "code",
   "execution_count": 105,
   "id": "2767ba9a",
   "metadata": {
    "ExecuteTime": {
     "end_time": "2022-07-30T18:09:11.357251Z",
     "start_time": "2022-07-30T18:09:11.293079Z"
    },
    "hidden": true
   },
   "outputs": [
    {
     "data": {
      "text/plain": [
       "uid          0\n",
       "country      0\n",
       "gender       0\n",
       "spent        0\n",
       "purchases    0\n",
       "date         0\n",
       "group        0\n",
       "device       0\n",
       "dtype: int64"
      ]
     },
     "execution_count": 105,
     "metadata": {},
     "output_type": "execute_result"
    }
   ],
   "source": [
    "df_raw.isna().sum()"
   ]
  },
  {
   "cell_type": "code",
   "execution_count": 106,
   "id": "897f944b",
   "metadata": {
    "ExecuteTime": {
     "end_time": "2022-07-30T18:09:11.503381Z",
     "start_time": "2022-07-30T18:09:11.496593Z"
    },
    "hidden": true
   },
   "outputs": [
    {
     "data": {
      "text/plain": [
       "uid                  object\n",
       "country              object\n",
       "gender               object\n",
       "spent                 int64\n",
       "purchases             int64\n",
       "date         datetime64[ns]\n",
       "group                object\n",
       "device               object\n",
       "dtype: object"
      ]
     },
     "execution_count": 106,
     "metadata": {},
     "output_type": "execute_result"
    }
   ],
   "source": [
    "df_raw.dtypes"
   ]
  },
  {
   "cell_type": "code",
   "execution_count": 107,
   "id": "db00b802",
   "metadata": {
    "ExecuteTime": {
     "end_time": "2022-07-30T18:09:11.746949Z",
     "start_time": "2022-07-30T18:09:11.708995Z"
    },
    "hidden": true
   },
   "outputs": [],
   "source": [
    "df_raw['date']= pd.to_datetime (df_raw['date'])\n",
    "df_raw['uid'] = df_raw['uid'].astype(str)"
   ]
  },
  {
   "cell_type": "code",
   "execution_count": 108,
   "id": "4735f817",
   "metadata": {
    "ExecuteTime": {
     "end_time": "2022-07-30T18:09:11.951337Z",
     "start_time": "2022-07-30T18:09:11.908829Z"
    },
    "hidden": true
   },
   "outputs": [
    {
     "data": {
      "text/html": [
       "<div>\n",
       "<style scoped>\n",
       "    .dataframe tbody tr th:only-of-type {\n",
       "        vertical-align: middle;\n",
       "    }\n",
       "\n",
       "    .dataframe tbody tr th {\n",
       "        vertical-align: top;\n",
       "    }\n",
       "\n",
       "    .dataframe thead th {\n",
       "        text-align: right;\n",
       "    }\n",
       "</style>\n",
       "<table border=\"1\" class=\"dataframe\">\n",
       "  <thead>\n",
       "    <tr style=\"text-align: right;\">\n",
       "      <th></th>\n",
       "      <th>group</th>\n",
       "      <th>uid</th>\n",
       "    </tr>\n",
       "  </thead>\n",
       "  <tbody>\n",
       "    <tr>\n",
       "      <th>0</th>\n",
       "      <td>GRP A</td>\n",
       "      <td>23009</td>\n",
       "    </tr>\n",
       "    <tr>\n",
       "      <th>1</th>\n",
       "      <td>GRP B</td>\n",
       "      <td>22874</td>\n",
       "    </tr>\n",
       "  </tbody>\n",
       "</table>\n",
       "</div>"
      ],
      "text/plain": [
       "   group    uid\n",
       "0  GRP A  23009\n",
       "1  GRP B  22874"
      ]
     },
     "execution_count": 108,
     "metadata": {},
     "output_type": "execute_result"
    }
   ],
   "source": [
    "df_raw[['uid','group']].groupby('group').count().reset_index()"
   ]
  },
  {
   "cell_type": "markdown",
   "id": "5b9ce297",
   "metadata": {
    "hidden": true
   },
   "source": [
    "## 3.1 Escola de um país (BRASIL)"
   ]
  },
  {
   "cell_type": "code",
   "execution_count": 159,
   "id": "9fda38b9",
   "metadata": {
    "ExecuteTime": {
     "end_time": "2022-07-30T18:40:19.254647Z",
     "start_time": "2022-07-30T18:40:19.236947Z"
    },
    "hidden": true
   },
   "outputs": [
    {
     "data": {
      "text/html": [
       "<div>\n",
       "<style scoped>\n",
       "    .dataframe tbody tr th:only-of-type {\n",
       "        vertical-align: middle;\n",
       "    }\n",
       "\n",
       "    .dataframe tbody tr th {\n",
       "        vertical-align: top;\n",
       "    }\n",
       "\n",
       "    .dataframe thead th {\n",
       "        text-align: right;\n",
       "    }\n",
       "</style>\n",
       "<table border=\"1\" class=\"dataframe\">\n",
       "  <thead>\n",
       "    <tr style=\"text-align: right;\">\n",
       "      <th></th>\n",
       "      <th>uid</th>\n",
       "      <th>country</th>\n",
       "      <th>gender</th>\n",
       "      <th>spent</th>\n",
       "      <th>purchases</th>\n",
       "      <th>date</th>\n",
       "      <th>group</th>\n",
       "      <th>device</th>\n",
       "    </tr>\n",
       "  </thead>\n",
       "  <tbody>\n",
       "    <tr>\n",
       "      <th>12</th>\n",
       "      <td>11143138</td>\n",
       "      <td>BRA</td>\n",
       "      <td>M</td>\n",
       "      <td>2592</td>\n",
       "      <td>8</td>\n",
       "      <td>2015-05-20</td>\n",
       "      <td>GRP B</td>\n",
       "      <td>A</td>\n",
       "    </tr>\n",
       "    <tr>\n",
       "      <th>15</th>\n",
       "      <td>11148343</td>\n",
       "      <td>BRA</td>\n",
       "      <td>M</td>\n",
       "      <td>299</td>\n",
       "      <td>1</td>\n",
       "      <td>2016-09-04</td>\n",
       "      <td>GRP B</td>\n",
       "      <td>A</td>\n",
       "    </tr>\n",
       "    <tr>\n",
       "      <th>31</th>\n",
       "      <td>11172970</td>\n",
       "      <td>BRA</td>\n",
       "      <td>M</td>\n",
       "      <td>1797</td>\n",
       "      <td>3</td>\n",
       "      <td>2017-07-05</td>\n",
       "      <td>GRP B</td>\n",
       "      <td>I</td>\n",
       "    </tr>\n",
       "    <tr>\n",
       "      <th>36</th>\n",
       "      <td>11177332</td>\n",
       "      <td>BRA</td>\n",
       "      <td>M</td>\n",
       "      <td>1994</td>\n",
       "      <td>6</td>\n",
       "      <td>2017-01-06</td>\n",
       "      <td>GRP B</td>\n",
       "      <td>I</td>\n",
       "    </tr>\n",
       "    <tr>\n",
       "      <th>37</th>\n",
       "      <td>11179295</td>\n",
       "      <td>BRA</td>\n",
       "      <td>M</td>\n",
       "      <td>1198</td>\n",
       "      <td>2</td>\n",
       "      <td>2017-12-19</td>\n",
       "      <td>GRP B</td>\n",
       "      <td>A</td>\n",
       "    </tr>\n",
       "  </tbody>\n",
       "</table>\n",
       "</div>"
      ],
      "text/plain": [
       "         uid country gender  spent  purchases       date  group device\n",
       "12  11143138     BRA      M   2592          8 2015-05-20  GRP B      A\n",
       "15  11148343     BRA      M    299          1 2016-09-04  GRP B      A\n",
       "31  11172970     BRA      M   1797          3 2017-07-05  GRP B      I\n",
       "36  11177332     BRA      M   1994          6 2017-01-06  GRP B      I\n",
       "37  11179295     BRA      M   1198          2 2017-12-19  GRP B      A"
      ]
     },
     "execution_count": 159,
     "metadata": {},
     "output_type": "execute_result"
    }
   ],
   "source": [
    "df1 = df_raw.loc [df_raw['country'] =='BRA', :]\n",
    "df1.head()"
   ]
  },
  {
   "cell_type": "code",
   "execution_count": 160,
   "id": "2942d7dc",
   "metadata": {
    "ExecuteTime": {
     "end_time": "2022-07-30T18:40:20.992029Z",
     "start_time": "2022-07-30T18:40:20.978026Z"
    },
    "hidden": true
   },
   "outputs": [
    {
     "data": {
      "text/plain": [
       "mean    1902.860251\n",
       "std     1398.886279\n",
       "Name: spent, dtype: float64"
      ]
     },
     "execution_count": 160,
     "metadata": {},
     "output_type": "execute_result"
    }
   ],
   "source": [
    "df1['spent'].agg(['mean', 'std'])"
   ]
  },
  {
   "cell_type": "code",
   "execution_count": 162,
   "id": "d9a1a432",
   "metadata": {
    "ExecuteTime": {
     "end_time": "2022-07-30T18:40:22.771084Z",
     "start_time": "2022-07-30T18:40:22.759141Z"
    },
    "hidden": true
   },
   "outputs": [
    {
     "name": "stdout",
     "output_type": "stream",
     "text": [
      "Number of Rows:9009\n",
      "Number of Cols:8\n"
     ]
    }
   ],
   "source": [
    "print('Number of Rows:{}'.format(df1.shape[0]))\n",
    "print('Number of Cols:{}'.format(df1.shape[1]))"
   ]
  },
  {
   "cell_type": "code",
   "execution_count": 112,
   "id": "706d3765",
   "metadata": {
    "ExecuteTime": {
     "end_time": "2022-07-30T18:09:13.020403Z",
     "start_time": "2022-07-30T18:09:12.974731Z"
    },
    "hidden": true
   },
   "outputs": [
    {
     "data": {
      "text/html": [
       "<div>\n",
       "<style scoped>\n",
       "    .dataframe tbody tr th:only-of-type {\n",
       "        vertical-align: middle;\n",
       "    }\n",
       "\n",
       "    .dataframe tbody tr th {\n",
       "        vertical-align: top;\n",
       "    }\n",
       "\n",
       "    .dataframe thead th {\n",
       "        text-align: right;\n",
       "    }\n",
       "</style>\n",
       "<table border=\"1\" class=\"dataframe\">\n",
       "  <thead>\n",
       "    <tr style=\"text-align: right;\">\n",
       "      <th></th>\n",
       "      <th>uid</th>\n",
       "      <th>group</th>\n",
       "    </tr>\n",
       "  </thead>\n",
       "  <tbody>\n",
       "  </tbody>\n",
       "</table>\n",
       "</div>"
      ],
      "text/plain": [
       "Empty DataFrame\n",
       "Columns: [uid, group]\n",
       "Index: []"
      ]
     },
     "execution_count": 112,
     "metadata": {},
     "output_type": "execute_result"
    }
   ],
   "source": [
    "df1[['uid','group']].groupby('group').count().reset_index()\n",
    "df1[['uid','group']].groupby('uid').count().reset_index().query('group>1')"
   ]
  },
  {
   "cell_type": "markdown",
   "id": "e51745b3",
   "metadata": {
    "hidden": true
   },
   "source": [
    "### 3.1.1 Control and Treatment Homogenity"
   ]
  },
  {
   "cell_type": "code",
   "execution_count": 113,
   "id": "74b91d34",
   "metadata": {
    "ExecuteTime": {
     "end_time": "2022-07-30T18:09:13.426970Z",
     "start_time": "2022-07-30T18:09:13.390873Z"
    },
    "hidden": true
   },
   "outputs": [
    {
     "data": {
      "text/html": [
       "<div>\n",
       "<style scoped>\n",
       "    .dataframe tbody tr th:only-of-type {\n",
       "        vertical-align: middle;\n",
       "    }\n",
       "\n",
       "    .dataframe tbody tr th {\n",
       "        vertical-align: top;\n",
       "    }\n",
       "\n",
       "    .dataframe thead th {\n",
       "        text-align: right;\n",
       "    }\n",
       "</style>\n",
       "<table border=\"1\" class=\"dataframe\">\n",
       "  <thead>\n",
       "    <tr style=\"text-align: right;\">\n",
       "      <th></th>\n",
       "      <th>group</th>\n",
       "      <th>gender</th>\n",
       "      <th>uid</th>\n",
       "    </tr>\n",
       "  </thead>\n",
       "  <tbody>\n",
       "    <tr>\n",
       "      <th>0</th>\n",
       "      <td>GRP A</td>\n",
       "      <td>F</td>\n",
       "      <td>2213</td>\n",
       "    </tr>\n",
       "    <tr>\n",
       "      <th>1</th>\n",
       "      <td>GRP A</td>\n",
       "      <td>M</td>\n",
       "      <td>2305</td>\n",
       "    </tr>\n",
       "    <tr>\n",
       "      <th>2</th>\n",
       "      <td>GRP B</td>\n",
       "      <td>F</td>\n",
       "      <td>2208</td>\n",
       "    </tr>\n",
       "    <tr>\n",
       "      <th>3</th>\n",
       "      <td>GRP B</td>\n",
       "      <td>M</td>\n",
       "      <td>2283</td>\n",
       "    </tr>\n",
       "  </tbody>\n",
       "</table>\n",
       "</div>"
      ],
      "text/plain": [
       "   group gender   uid\n",
       "0  GRP A      F  2213\n",
       "1  GRP A      M  2305\n",
       "2  GRP B      F  2208\n",
       "3  GRP B      M  2283"
      ]
     },
     "execution_count": 113,
     "metadata": {},
     "output_type": "execute_result"
    }
   ],
   "source": [
    "df1[['uid','group','gender']].groupby(['group', 'gender']).count().reset_index()"
   ]
  },
  {
   "cell_type": "code",
   "execution_count": 114,
   "id": "305ebaea",
   "metadata": {
    "ExecuteTime": {
     "end_time": "2022-07-30T18:09:13.621860Z",
     "start_time": "2022-07-30T18:09:13.600535Z"
    },
    "hidden": true
   },
   "outputs": [
    {
     "data": {
      "text/html": [
       "<div>\n",
       "<style scoped>\n",
       "    .dataframe tbody tr th:only-of-type {\n",
       "        vertical-align: middle;\n",
       "    }\n",
       "\n",
       "    .dataframe tbody tr th {\n",
       "        vertical-align: top;\n",
       "    }\n",
       "\n",
       "    .dataframe thead th {\n",
       "        text-align: right;\n",
       "    }\n",
       "</style>\n",
       "<table border=\"1\" class=\"dataframe\">\n",
       "  <thead>\n",
       "    <tr style=\"text-align: right;\">\n",
       "      <th></th>\n",
       "      <th>group</th>\n",
       "      <th>device</th>\n",
       "      <th>uid</th>\n",
       "    </tr>\n",
       "  </thead>\n",
       "  <tbody>\n",
       "    <tr>\n",
       "      <th>0</th>\n",
       "      <td>GRP A</td>\n",
       "      <td>A</td>\n",
       "      <td>2208</td>\n",
       "    </tr>\n",
       "    <tr>\n",
       "      <th>1</th>\n",
       "      <td>GRP A</td>\n",
       "      <td>I</td>\n",
       "      <td>2310</td>\n",
       "    </tr>\n",
       "    <tr>\n",
       "      <th>2</th>\n",
       "      <td>GRP B</td>\n",
       "      <td>A</td>\n",
       "      <td>2284</td>\n",
       "    </tr>\n",
       "    <tr>\n",
       "      <th>3</th>\n",
       "      <td>GRP B</td>\n",
       "      <td>I</td>\n",
       "      <td>2207</td>\n",
       "    </tr>\n",
       "  </tbody>\n",
       "</table>\n",
       "</div>"
      ],
      "text/plain": [
       "   group device   uid\n",
       "0  GRP A      A  2208\n",
       "1  GRP A      I  2310\n",
       "2  GRP B      A  2284\n",
       "3  GRP B      I  2207"
      ]
     },
     "execution_count": 114,
     "metadata": {},
     "output_type": "execute_result"
    }
   ],
   "source": [
    "df1[['uid','group','device']].groupby(['group', 'device']).count().reset_index()"
   ]
  },
  {
   "cell_type": "code",
   "execution_count": 115,
   "id": "f0386c93",
   "metadata": {
    "ExecuteTime": {
     "end_time": "2022-07-30T18:09:13.829114Z",
     "start_time": "2022-07-30T18:09:13.808532Z"
    },
    "hidden": true
   },
   "outputs": [
    {
     "data": {
      "text/html": [
       "<div>\n",
       "<style scoped>\n",
       "    .dataframe tbody tr th:only-of-type {\n",
       "        vertical-align: middle;\n",
       "    }\n",
       "\n",
       "    .dataframe tbody tr th {\n",
       "        vertical-align: top;\n",
       "    }\n",
       "\n",
       "    .dataframe thead tr th {\n",
       "        text-align: left;\n",
       "    }\n",
       "</style>\n",
       "<table border=\"1\" class=\"dataframe\">\n",
       "  <thead>\n",
       "    <tr>\n",
       "      <th></th>\n",
       "      <th>group</th>\n",
       "      <th>country</th>\n",
       "      <th colspan=\"4\" halign=\"left\">spent</th>\n",
       "      <th colspan=\"4\" halign=\"left\">purchases</th>\n",
       "    </tr>\n",
       "    <tr>\n",
       "      <th></th>\n",
       "      <th></th>\n",
       "      <th>count</th>\n",
       "      <th>min</th>\n",
       "      <th>max</th>\n",
       "      <th>median</th>\n",
       "      <th>std</th>\n",
       "      <th>min</th>\n",
       "      <th>max</th>\n",
       "      <th>median</th>\n",
       "      <th>std</th>\n",
       "    </tr>\n",
       "  </thead>\n",
       "  <tbody>\n",
       "    <tr>\n",
       "      <th>0</th>\n",
       "      <td>GRP A</td>\n",
       "      <td>4518</td>\n",
       "      <td>99</td>\n",
       "      <td>10480</td>\n",
       "      <td>1596.0</td>\n",
       "      <td>1413.074052</td>\n",
       "      <td>1</td>\n",
       "      <td>24</td>\n",
       "      <td>4.0</td>\n",
       "      <td>3.170057</td>\n",
       "    </tr>\n",
       "    <tr>\n",
       "      <th>1</th>\n",
       "      <td>GRP B</td>\n",
       "      <td>4491</td>\n",
       "      <td>99</td>\n",
       "      <td>10478</td>\n",
       "      <td>1597.0</td>\n",
       "      <td>1384.617019</td>\n",
       "      <td>1</td>\n",
       "      <td>23</td>\n",
       "      <td>4.0</td>\n",
       "      <td>3.132202</td>\n",
       "    </tr>\n",
       "  </tbody>\n",
       "</table>\n",
       "</div>"
      ],
      "text/plain": [
       "   group country spent                             purchases             \\\n",
       "           count   min    max  median          std       min max median   \n",
       "0  GRP A    4518    99  10480  1596.0  1413.074052         1  24    4.0   \n",
       "1  GRP B    4491    99  10478  1597.0  1384.617019         1  23    4.0   \n",
       "\n",
       "             \n",
       "        std  \n",
       "0  3.170057  \n",
       "1  3.132202  "
      ]
     },
     "execution_count": 115,
     "metadata": {},
     "output_type": "execute_result"
    }
   ],
   "source": [
    "df1.groupby('group').agg({'country':'count',\n",
    "                          'spent':['min','max','median','std'],\n",
    "                          'purchases':['min','max','median','std']\n",
    "                         }).reset_index()"
   ]
  },
  {
   "cell_type": "code",
   "execution_count": 116,
   "id": "9c582004",
   "metadata": {
    "ExecuteTime": {
     "end_time": "2022-07-30T18:09:14.203593Z",
     "start_time": "2022-07-30T18:09:14.018058Z"
    },
    "hidden": true
   },
   "outputs": [
    {
     "data": {
      "image/png": "[encoded data removed]",
      "text/plain": [
       "<Figure size 432x288 with 1 Axes>"
      ]
     },
     "metadata": {
      "needs_background": "light"
     },
     "output_type": "display_data"
    }
   ],
   "source": [
    "df1.loc[df1['group'] == 'GRP A','purchases'].hist(bins=20);\n",
    "df1.loc[df1['group'] == 'GRP B','purchases'].hist(bins=20);"
   ]
  },
  {
   "cell_type": "code",
   "execution_count": 117,
   "id": "e57bbdf2",
   "metadata": {
    "ExecuteTime": {
     "end_time": "2022-07-30T18:09:14.735404Z",
     "start_time": "2022-07-30T18:09:14.731260Z"
    },
    "hidden": true
   },
   "outputs": [],
   "source": [
    "#distubuição normal\n",
    "#list_mean =[]\n",
    "\n",
    "#for i in range (1000):\n",
    "    #m = df1.loc[df1['group'] == 'GRP A','purchases'].sample(90).mean()\n",
    "    #list_mean.append(m)\n",
    "#plt.hist(list_mean);"
   ]
  },
  {
   "cell_type": "markdown",
   "id": "cc1302ce",
   "metadata": {
    "ExecuteTime": {
     "end_time": "2022-07-30T17:59:18.693233Z",
     "start_time": "2022-07-30T17:59:18.691038Z"
    },
    "hidden": true
   },
   "source": [
    "## 3.2 Escola de um país (ESPANHA)"
   ]
  },
  {
   "cell_type": "code",
   "execution_count": 95,
   "id": "531a6575",
   "metadata": {
    "ExecuteTime": {
     "end_time": "2022-07-30T18:08:21.114564Z",
     "start_time": "2022-07-30T18:08:21.105708Z"
    },
    "hidden": true
   },
   "outputs": [],
   "source": [
    "df2 = df1.copy()"
   ]
  },
  {
   "cell_type": "code",
   "execution_count": 144,
   "id": "fd528a69",
   "metadata": {
    "ExecuteTime": {
     "end_time": "2022-07-30T18:38:14.588208Z",
     "start_time": "2022-07-30T18:38:14.569564Z"
    },
    "hidden": true
   },
   "outputs": [
    {
     "name": "stdout",
     "output_type": "stream",
     "text": [
      "763\n"
     ]
    }
   ],
   "source": [
    "# TAMANHO DA AMOSTRA (ESPANHA)\n",
    "init_metric = 1874.18\n",
    "end_metric = init_metric * (1 + 0.10) #aumenta a porcentagem\n",
    "std_metric = 1305.26\n",
    "\n",
    "effect_size = (end_metric - init_metric)/std_metric\n",
    "\n",
    "\n",
    "sample_size = sms.tt_ind_solve_power(\n",
    "    effect_size=effect_size,\n",
    "    alpha=0.05,\n",
    "    power=0.80\n",
    ")\n",
    "\n",
    "sample_size = np.ceil(sample_size).astype(int)\n",
    "print(sample_size)"
   ]
  },
  {
   "cell_type": "code",
   "execution_count": 145,
   "id": "22e928b5",
   "metadata": {
    "ExecuteTime": {
     "end_time": "2022-07-30T18:38:17.977932Z",
     "start_time": "2022-07-30T18:38:17.960974Z"
    },
    "hidden": true
   },
   "outputs": [
    {
     "data": {
      "text/html": [
       "<div>\n",
       "<style scoped>\n",
       "    .dataframe tbody tr th:only-of-type {\n",
       "        vertical-align: middle;\n",
       "    }\n",
       "\n",
       "    .dataframe tbody tr th {\n",
       "        vertical-align: top;\n",
       "    }\n",
       "\n",
       "    .dataframe thead th {\n",
       "        text-align: right;\n",
       "    }\n",
       "</style>\n",
       "<table border=\"1\" class=\"dataframe\">\n",
       "  <thead>\n",
       "    <tr style=\"text-align: right;\">\n",
       "      <th></th>\n",
       "      <th>uid</th>\n",
       "      <th>country</th>\n",
       "      <th>gender</th>\n",
       "      <th>spent</th>\n",
       "      <th>purchases</th>\n",
       "      <th>date</th>\n",
       "      <th>group</th>\n",
       "      <th>device</th>\n",
       "    </tr>\n",
       "  </thead>\n",
       "  <tbody>\n",
       "    <tr>\n",
       "      <th>4</th>\n",
       "      <td>11130759</td>\n",
       "      <td>ESP</td>\n",
       "      <td>M</td>\n",
       "      <td>1297</td>\n",
       "      <td>3</td>\n",
       "      <td>2018-01-10</td>\n",
       "      <td>GRP B</td>\n",
       "      <td>A</td>\n",
       "    </tr>\n",
       "    <tr>\n",
       "      <th>17</th>\n",
       "      <td>11149952</td>\n",
       "      <td>ESP</td>\n",
       "      <td>M</td>\n",
       "      <td>398</td>\n",
       "      <td>2</td>\n",
       "      <td>2017-02-02</td>\n",
       "      <td>GRP A</td>\n",
       "      <td>A</td>\n",
       "    </tr>\n",
       "    <tr>\n",
       "      <th>40</th>\n",
       "      <td>11183968</td>\n",
       "      <td>ESP</td>\n",
       "      <td>M</td>\n",
       "      <td>996</td>\n",
       "      <td>4</td>\n",
       "      <td>2016-04-01</td>\n",
       "      <td>GRP A</td>\n",
       "      <td>A</td>\n",
       "    </tr>\n",
       "    <tr>\n",
       "      <th>45</th>\n",
       "      <td>11193748</td>\n",
       "      <td>ESP</td>\n",
       "      <td>M</td>\n",
       "      <td>299</td>\n",
       "      <td>1</td>\n",
       "      <td>2016-10-11</td>\n",
       "      <td>GRP A</td>\n",
       "      <td>A</td>\n",
       "    </tr>\n",
       "    <tr>\n",
       "      <th>47</th>\n",
       "      <td>11199766</td>\n",
       "      <td>ESP</td>\n",
       "      <td>F</td>\n",
       "      <td>199</td>\n",
       "      <td>1</td>\n",
       "      <td>2017-05-04</td>\n",
       "      <td>GRP A</td>\n",
       "      <td>A</td>\n",
       "    </tr>\n",
       "  </tbody>\n",
       "</table>\n",
       "</div>"
      ],
      "text/plain": [
       "         uid country gender  spent  purchases       date  group device\n",
       "4   11130759     ESP      M   1297          3 2018-01-10  GRP B      A\n",
       "17  11149952     ESP      M    398          2 2017-02-02  GRP A      A\n",
       "40  11183968     ESP      M    996          4 2016-04-01  GRP A      A\n",
       "45  11193748     ESP      M    299          1 2016-10-11  GRP A      A\n",
       "47  11199766     ESP      F    199          1 2017-05-04  GRP A      A"
      ]
     },
     "execution_count": 145,
     "metadata": {},
     "output_type": "execute_result"
    }
   ],
   "source": [
    "df2 = df_raw.loc [df_raw['country'] =='ESP', :]\n",
    "df2.head()"
   ]
  },
  {
   "cell_type": "code",
   "execution_count": 146,
   "id": "b864f3e9",
   "metadata": {
    "ExecuteTime": {
     "end_time": "2022-07-30T18:38:18.291301Z",
     "start_time": "2022-07-30T18:38:18.279756Z"
    },
    "hidden": true
   },
   "outputs": [
    {
     "data": {
      "text/plain": [
       "mean    1874.184592\n",
       "std     1305.259136\n",
       "Name: spent, dtype: float64"
      ]
     },
     "execution_count": 146,
     "metadata": {},
     "output_type": "execute_result"
    }
   ],
   "source": [
    "df2['spent'].agg(['mean', 'std'])"
   ]
  },
  {
   "cell_type": "code",
   "execution_count": 147,
   "id": "000385ae",
   "metadata": {
    "ExecuteTime": {
     "end_time": "2022-07-30T18:38:18.695639Z",
     "start_time": "2022-07-30T18:38:18.688083Z"
    },
    "hidden": true
   },
   "outputs": [
    {
     "name": "stdout",
     "output_type": "stream",
     "text": [
      "Number of Rows:1934\n",
      "Number of Cols:8\n"
     ]
    }
   ],
   "source": [
    "print('Number of Rows:{}'.format(df2.shape[0]))\n",
    "print('Number of Cols:{}'.format(df2.shape[1]))"
   ]
  },
  {
   "cell_type": "code",
   "execution_count": 148,
   "id": "0b08eb00",
   "metadata": {
    "ExecuteTime": {
     "end_time": "2022-07-30T18:38:19.390590Z",
     "start_time": "2022-07-30T18:38:19.354615Z"
    },
    "hidden": true
   },
   "outputs": [
    {
     "data": {
      "text/html": [
       "<div>\n",
       "<style scoped>\n",
       "    .dataframe tbody tr th:only-of-type {\n",
       "        vertical-align: middle;\n",
       "    }\n",
       "\n",
       "    .dataframe tbody tr th {\n",
       "        vertical-align: top;\n",
       "    }\n",
       "\n",
       "    .dataframe thead th {\n",
       "        text-align: right;\n",
       "    }\n",
       "</style>\n",
       "<table border=\"1\" class=\"dataframe\">\n",
       "  <thead>\n",
       "    <tr style=\"text-align: right;\">\n",
       "      <th></th>\n",
       "      <th>uid</th>\n",
       "      <th>group</th>\n",
       "    </tr>\n",
       "  </thead>\n",
       "  <tbody>\n",
       "  </tbody>\n",
       "</table>\n",
       "</div>"
      ],
      "text/plain": [
       "Empty DataFrame\n",
       "Columns: [uid, group]\n",
       "Index: []"
      ]
     },
     "execution_count": 148,
     "metadata": {},
     "output_type": "execute_result"
    }
   ],
   "source": [
    "df2[['uid','group']].groupby('group').count().reset_index()\n",
    "df2[['uid','group']].groupby('uid').count().reset_index().query('group>1')"
   ]
  },
  {
   "cell_type": "markdown",
   "id": "419f8e2c",
   "metadata": {
    "hidden": true
   },
   "source": [
    "### 3.2.1 Control and Treatment Homogenity"
   ]
  },
  {
   "cell_type": "code",
   "execution_count": 149,
   "id": "cc5d265f",
   "metadata": {
    "ExecuteTime": {
     "end_time": "2022-07-30T18:38:20.134691Z",
     "start_time": "2022-07-30T18:38:20.122495Z"
    },
    "hidden": true
   },
   "outputs": [
    {
     "data": {
      "text/html": [
       "<div>\n",
       "<style scoped>\n",
       "    .dataframe tbody tr th:only-of-type {\n",
       "        vertical-align: middle;\n",
       "    }\n",
       "\n",
       "    .dataframe tbody tr th {\n",
       "        vertical-align: top;\n",
       "    }\n",
       "\n",
       "    .dataframe thead th {\n",
       "        text-align: right;\n",
       "    }\n",
       "</style>\n",
       "<table border=\"1\" class=\"dataframe\">\n",
       "  <thead>\n",
       "    <tr style=\"text-align: right;\">\n",
       "      <th></th>\n",
       "      <th>group</th>\n",
       "      <th>gender</th>\n",
       "      <th>uid</th>\n",
       "    </tr>\n",
       "  </thead>\n",
       "  <tbody>\n",
       "    <tr>\n",
       "      <th>0</th>\n",
       "      <td>GRP A</td>\n",
       "      <td>F</td>\n",
       "      <td>493</td>\n",
       "    </tr>\n",
       "    <tr>\n",
       "      <th>1</th>\n",
       "      <td>GRP A</td>\n",
       "      <td>M</td>\n",
       "      <td>477</td>\n",
       "    </tr>\n",
       "    <tr>\n",
       "      <th>2</th>\n",
       "      <td>GRP B</td>\n",
       "      <td>F</td>\n",
       "      <td>475</td>\n",
       "    </tr>\n",
       "    <tr>\n",
       "      <th>3</th>\n",
       "      <td>GRP B</td>\n",
       "      <td>M</td>\n",
       "      <td>489</td>\n",
       "    </tr>\n",
       "  </tbody>\n",
       "</table>\n",
       "</div>"
      ],
      "text/plain": [
       "   group gender  uid\n",
       "0  GRP A      F  493\n",
       "1  GRP A      M  477\n",
       "2  GRP B      F  475\n",
       "3  GRP B      M  489"
      ]
     },
     "execution_count": 149,
     "metadata": {},
     "output_type": "execute_result"
    }
   ],
   "source": [
    "df2[['uid','group','gender']].groupby(['group', 'gender']).count().reset_index()"
   ]
  },
  {
   "cell_type": "code",
   "execution_count": 150,
   "id": "d2449126",
   "metadata": {
    "ExecuteTime": {
     "end_time": "2022-07-30T18:38:20.816214Z",
     "start_time": "2022-07-30T18:38:20.791367Z"
    },
    "hidden": true
   },
   "outputs": [
    {
     "data": {
      "text/html": [
       "<div>\n",
       "<style scoped>\n",
       "    .dataframe tbody tr th:only-of-type {\n",
       "        vertical-align: middle;\n",
       "    }\n",
       "\n",
       "    .dataframe tbody tr th {\n",
       "        vertical-align: top;\n",
       "    }\n",
       "\n",
       "    .dataframe thead th {\n",
       "        text-align: right;\n",
       "    }\n",
       "</style>\n",
       "<table border=\"1\" class=\"dataframe\">\n",
       "  <thead>\n",
       "    <tr style=\"text-align: right;\">\n",
       "      <th></th>\n",
       "      <th>group</th>\n",
       "      <th>device</th>\n",
       "      <th>uid</th>\n",
       "    </tr>\n",
       "  </thead>\n",
       "  <tbody>\n",
       "    <tr>\n",
       "      <th>0</th>\n",
       "      <td>GRP A</td>\n",
       "      <td>A</td>\n",
       "      <td>449</td>\n",
       "    </tr>\n",
       "    <tr>\n",
       "      <th>1</th>\n",
       "      <td>GRP A</td>\n",
       "      <td>I</td>\n",
       "      <td>521</td>\n",
       "    </tr>\n",
       "    <tr>\n",
       "      <th>2</th>\n",
       "      <td>GRP B</td>\n",
       "      <td>A</td>\n",
       "      <td>491</td>\n",
       "    </tr>\n",
       "    <tr>\n",
       "      <th>3</th>\n",
       "      <td>GRP B</td>\n",
       "      <td>I</td>\n",
       "      <td>473</td>\n",
       "    </tr>\n",
       "  </tbody>\n",
       "</table>\n",
       "</div>"
      ],
      "text/plain": [
       "   group device  uid\n",
       "0  GRP A      A  449\n",
       "1  GRP A      I  521\n",
       "2  GRP B      A  491\n",
       "3  GRP B      I  473"
      ]
     },
     "execution_count": 150,
     "metadata": {},
     "output_type": "execute_result"
    }
   ],
   "source": [
    "df2[['uid','group','device']].groupby(['group', 'device']).count().reset_index()"
   ]
  },
  {
   "cell_type": "code",
   "execution_count": 151,
   "id": "0347003e",
   "metadata": {
    "ExecuteTime": {
     "end_time": "2022-07-30T18:38:21.180483Z",
     "start_time": "2022-07-30T18:38:21.157966Z"
    },
    "hidden": true
   },
   "outputs": [
    {
     "data": {
      "text/html": [
       "<div>\n",
       "<style scoped>\n",
       "    .dataframe tbody tr th:only-of-type {\n",
       "        vertical-align: middle;\n",
       "    }\n",
       "\n",
       "    .dataframe tbody tr th {\n",
       "        vertical-align: top;\n",
       "    }\n",
       "\n",
       "    .dataframe thead tr th {\n",
       "        text-align: left;\n",
       "    }\n",
       "</style>\n",
       "<table border=\"1\" class=\"dataframe\">\n",
       "  <thead>\n",
       "    <tr>\n",
       "      <th></th>\n",
       "      <th>group</th>\n",
       "      <th>country</th>\n",
       "      <th colspan=\"4\" halign=\"left\">spent</th>\n",
       "      <th colspan=\"4\" halign=\"left\">purchases</th>\n",
       "    </tr>\n",
       "    <tr>\n",
       "      <th></th>\n",
       "      <th></th>\n",
       "      <th>count</th>\n",
       "      <th>min</th>\n",
       "      <th>max</th>\n",
       "      <th>median</th>\n",
       "      <th>std</th>\n",
       "      <th>min</th>\n",
       "      <th>max</th>\n",
       "      <th>median</th>\n",
       "      <th>std</th>\n",
       "    </tr>\n",
       "  </thead>\n",
       "  <tbody>\n",
       "    <tr>\n",
       "      <th>0</th>\n",
       "      <td>GRP A</td>\n",
       "      <td>970</td>\n",
       "      <td>99</td>\n",
       "      <td>8581</td>\n",
       "      <td>1497.0</td>\n",
       "      <td>1273.604015</td>\n",
       "      <td>1</td>\n",
       "      <td>19</td>\n",
       "      <td>4.0</td>\n",
       "      <td>2.934934</td>\n",
       "    </tr>\n",
       "    <tr>\n",
       "      <th>1</th>\n",
       "      <td>GRP B</td>\n",
       "      <td>964</td>\n",
       "      <td>99</td>\n",
       "      <td>8980</td>\n",
       "      <td>1696.0</td>\n",
       "      <td>1332.172125</td>\n",
       "      <td>1</td>\n",
       "      <td>20</td>\n",
       "      <td>4.0</td>\n",
       "      <td>3.023540</td>\n",
       "    </tr>\n",
       "  </tbody>\n",
       "</table>\n",
       "</div>"
      ],
      "text/plain": [
       "   group country spent                            purchases             \\\n",
       "           count   min   max  median          std       min max median   \n",
       "0  GRP A     970    99  8581  1497.0  1273.604015         1  19    4.0   \n",
       "1  GRP B     964    99  8980  1696.0  1332.172125         1  20    4.0   \n",
       "\n",
       "             \n",
       "        std  \n",
       "0  2.934934  \n",
       "1  3.023540  "
      ]
     },
     "execution_count": 151,
     "metadata": {},
     "output_type": "execute_result"
    }
   ],
   "source": [
    "df2.groupby('group').agg({'country':'count',\n",
    "                          'spent':['min','max','median','std'],\n",
    "                          'purchases':['min','max','median','std']\n",
    "                         }).reset_index()"
   ]
  },
  {
   "cell_type": "code",
   "execution_count": 152,
   "id": "6892f7cb",
   "metadata": {
    "ExecuteTime": {
     "end_time": "2022-07-30T18:38:21.766115Z",
     "start_time": "2022-07-30T18:38:21.622272Z"
    },
    "hidden": true
   },
   "outputs": [
    {
     "data": {
      "image/png": "[encoded data removed]",
      "text/plain": [
       "<Figure size 432x288 with 1 Axes>"
      ]
     },
     "metadata": {
      "needs_background": "light"
     },
     "output_type": "display_data"
    }
   ],
   "source": [
    "df2.loc[df2['group'] == 'GRP A','purchases'].hist(bins=20);\n",
    "df2.loc[df2['group'] == 'GRP B','purchases'].hist(bins=20);"
   ]
  },
  {
   "cell_type": "code",
   "execution_count": 154,
   "id": "531c64b0",
   "metadata": {
    "ExecuteTime": {
     "end_time": "2022-07-30T18:38:54.367000Z",
     "start_time": "2022-07-30T18:38:54.352230Z"
    },
    "hidden": true
   },
   "outputs": [
    {
     "name": "stdout",
     "output_type": "stream",
     "text": [
      "AVG Sample A: 1815.92 +/- 1271.61\n",
      "AVG Sample B: 1950.69 +/- 1322.14\n"
     ]
    }
   ],
   "source": [
    "sample_A = df2.loc[df2['group'] == 'GRP A','spent'].sample(n=sample_size,random_state=42)\n",
    "sample_B = df2.loc[df2['group'] == 'GRP B','spent'].sample(n=sample_size,random_state=42)\n",
    "\n",
    "#Metrics\n",
    "print('AVG Sample A: {} +/- {}'.format( np.round(sample_A.mean(), 2), np.round(sample_A.std(), 2)))\n",
    "print('AVG Sample B: {} +/- {}'.format( np.round(sample_B.mean(), 2),np.round (sample_B.std(), 2)))"
   ]
  },
  {
   "cell_type": "code",
   "execution_count": 155,
   "id": "4d53bed4",
   "metadata": {
    "ExecuteTime": {
     "end_time": "2022-07-30T18:39:05.155776Z",
     "start_time": "2022-07-30T18:39:05.152298Z"
    },
    "hidden": true
   },
   "outputs": [
    {
     "name": "stdout",
     "output_type": "stream",
     "text": [
      "p-value 0.04260378484423854\n"
     ]
    }
   ],
   "source": [
    "t_test,p_value =  stats.ttest_ind(sample_A, sample_B)\n",
    "print('p-value {}'.format(p_value ))"
   ]
  },
  {
   "cell_type": "code",
   "execution_count": 156,
   "id": "0bdb7402",
   "metadata": {
    "ExecuteTime": {
     "end_time": "2022-07-30T18:39:13.901290Z",
     "start_time": "2022-07-30T18:39:13.894767Z"
    },
    "hidden": true
   },
   "outputs": [
    {
     "name": "stdout",
     "output_type": "stream",
     "text": [
      "Reject Null Hypothesis\n"
     ]
    }
   ],
   "source": [
    "significance_level = 0.05\n",
    "if p_value < significance_level:\n",
    "    print('Reject Null Hypothesis') # O prenchimento automatico trouxe uma mudança significativa no GMV da \n",
    "                                    # da página (no brasil)\n",
    "                                    # Colocar para a produção\n",
    "else:\n",
    "    print('Failed to Reject Null Hypothesis') # Não temos evidencia suficiencias para dizer que o preenchimento\n",
    "                                             # automatico trouxe uma mudança no GMV da página(brasil)\n",
    "                                            #Repensar a estrategia de dispositivo de prenchimento automatico"
   ]
  },
  {
   "cell_type": "code",
   "execution_count": null,
   "id": "f150a82e",
   "metadata": {
    "hidden": true
   },
   "outputs": [],
   "source": []
  },
  {
   "cell_type": "code",
   "execution_count": null,
   "id": "66d3b08b",
   "metadata": {
    "hidden": true
   },
   "outputs": [],
   "source": []
  },
  {
   "cell_type": "markdown",
   "id": "b57cff23",
   "metadata": {
    "heading_collapsed": true
   },
   "source": [
    "# 4.0 Test Hipóteses"
   ]
  },
  {
   "cell_type": "markdown",
   "id": "dfc9d00b",
   "metadata": {
    "heading_collapsed": true,
    "hidden": true
   },
   "source": [
    "## 4.1 Groups"
   ]
  },
  {
   "cell_type": "code",
   "execution_count": 132,
   "id": "a3b05049",
   "metadata": {
    "ExecuteTime": {
     "end_time": "2022-07-30T18:19:50.396885Z",
     "start_time": "2022-07-30T18:19:50.382558Z"
    },
    "hidden": true
   },
   "outputs": [
    {
     "name": "stdout",
     "output_type": "stream",
     "text": [
      "AVG Sample A: 1908.56 +/- 1406.42\n",
      "AVG Sample B: 1902.1 +/- 1383.93\n"
     ]
    }
   ],
   "source": [
    "sample_A = df1.loc[df1['group'] == 'GRP A','spent'].sample(n=sample_size,random_state=42)\n",
    "sample_B = df1.loc[df1['group'] == 'GRP B','spent'].sample(n=sample_size,random_state=42)\n",
    "\n",
    "#Metrics\n",
    "print('AVG Sample A: {} +/- {}'.format( np.round(sample_A.mean(), 2), np.round(sample_A.std(), 2)))\n",
    "print('AVG Sample B: {} +/- {}'.format( np.round(sample_B.mean(), 2),np.round (sample_B.std(), 2)))"
   ]
  },
  {
   "cell_type": "markdown",
   "id": "6eefc331",
   "metadata": {
    "heading_collapsed": true,
    "hidden": true
   },
   "source": [
    "## 4.2 Inferência Estatistica "
   ]
  },
  {
   "cell_type": "code",
   "execution_count": 158,
   "id": "d831fc8e",
   "metadata": {
    "ExecuteTime": {
     "end_time": "2022-07-30T18:40:10.849308Z",
     "start_time": "2022-07-30T18:40:10.841850Z"
    },
    "hidden": true
   },
   "outputs": [
    {
     "name": "stdout",
     "output_type": "stream",
     "text": [
      "p-value 0.04260378484423854\n"
     ]
    }
   ],
   "source": [
    "t_test,p_value =  stats.ttest_ind(sample_A, sample_B)\n",
    "print('p-value {}'.format(p_value ))"
   ]
  },
  {
   "cell_type": "markdown",
   "id": "f32bffba",
   "metadata": {
    "heading_collapsed": true
   },
   "source": [
    "# 5.0 Conclusão "
   ]
  },
  {
   "cell_type": "code",
   "execution_count": 157,
   "id": "45db9b00",
   "metadata": {
    "ExecuteTime": {
     "end_time": "2022-07-30T18:40:01.514135Z",
     "start_time": "2022-07-30T18:40:01.501054Z"
    },
    "hidden": true
   },
   "outputs": [
    {
     "name": "stdout",
     "output_type": "stream",
     "text": [
      "Reject Null Hypothesis\n"
     ]
    }
   ],
   "source": [
    "significance_level = 0.05\n",
    "if p_value < significance_level:\n",
    "    print('Reject Null Hypothesis') # O prenchimento automatico trouxe uma mudança significativa no GMV da \n",
    "                                    # da página (no brasil)\n",
    "                                    # Colocar para a produção\n",
    "else:\n",
    "    print('Failed to Reject Null Hypothesis') # Não temos evidencia suficiencias para dizer que o preenchimento\n",
    "                                             # automatico trouxe uma mudança no GMV da página(brasil)\n",
    "                                            #Repensar a estrategia de dispositivo de prenchimento automatico"
   ]
  }
 ],
 "metadata": {
  "kernelspec": {
   "display_name": "Python 3 (ipykernel)",
   "language": "python",
   "name": "python3"
  },
  "language_info": {
   "codemirror_mode": {
    "name": "ipython",
    "version": 3
   },
   "file_extension": ".py",
   "mimetype": "text/x-python",
   "name": "python",
   "nbconvert_exporter": "python",
   "pygments_lexer": "ipython3",
   "version": "3.8.1"
  },
  "varInspector": {
   "cols": {
    "lenName": 16,
    "lenType": 16,
    "lenVar": 40
   },
   "kernels_config": {
    "python": {
     "delete_cmd_postfix": "",
     "delete_cmd_prefix": "del ",
     "library": "var_list.py",
     "varRefreshCmd": "print(var_dic_list())"
    },
    "r": {
     "delete_cmd_postfix": ") ",
     "delete_cmd_prefix": "rm(",
     "library": "var_list.r",
     "varRefreshCmd": "cat(var_dic_list()) "
    }
   },
   "types_to_exclude": [
    "module",
    "function",
    "builtin_function_or_method",
    "instance",
    "_Feature"
   ],
   "window_display": false
  }
 },
 "nbformat": 4,
 "nbformat_minor": 5
}
